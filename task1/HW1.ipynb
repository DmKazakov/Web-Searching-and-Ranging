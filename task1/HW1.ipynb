{
 "cells": [
  {
   "cell_type": "code",
   "execution_count": 4,
   "metadata": {
    "scrolled": false
   },
   "outputs": [],
   "source": [
    "import lxml.etree as et\n",
    "\n",
    "from dictionary import *\n",
    "from utils import *\n",
    "from document import *\n",
    "from graph import *\n",
    "\n",
    "\n",
    "def parse_xml(filename):\n",
    "    context = et.iterparse(filename, tag='document')\n",
    "\n",
    "    for (_, elem) in context:\n",
    "        content = elem[0].text\n",
    "        url = elem[1].text\n",
    "        doc_id = int(elem[2].text)\n",
    "        elem.clear()\n",
    "\n",
    "        try:\n",
    "            doc = Document(decode_base64_cp1251(content), doc_id, decode_base64_cp1251(url))\n",
    "            stats = doc.calc_doc_stats()\n",
    "            docs_stat.append(stats)\n",
    "            graph.add_document(stats)\n",
    "            dictionary.add_doc_words(doc.words)\n",
    "        except:\n",
    "            print(\"Unable to parse \" + str(doc_id))\n",
    "        break\n",
    "\n",
    "\n",
    "XML_FOLDER = \"byweb_for_course\"\n",
    "\n",
    "\n",
    "docs_stat = []\n",
    "mystem = Mystem()\n",
    "dictionary = Dictionary()\n",
    "graph = LinkGraph()\n",
    "\n",
    "for filename in os.listdir(XML_FOLDER):\n",
    "    if filename.endswith(\".xml\"):\n",
    "        parse_xml(XML_FOLDER + os.sep + filename)"
   ]
  },
  {
   "cell_type": "code",
   "execution_count": null,
   "metadata": {},
   "outputs": [],
   "source": [
    "print(\"Total documents count: \" + str(len(docs_stat)))\n",
    "print(\"Average document length: \" + float_to_str(average_doc_size_in_words(docs_stat)) + \" words\")\n",
    "print(\"Average document length: \" + float_to_str(average_doc_size_in_bytes(docs_stat)) + \" bytes\")\n",
    "print(\"Average text content to HTML content ratio: \" + float_to_str(average_doc_text_to_html_ratio(docs_stat)))\n",
    "plot_histogram(\n",
    "    data=[stat.words_cnt for stat in docs_stat],\n",
    "    title=\"Length in words distribution\",\n",
    "    x_axis_title=\"words\",\n",
    "    y_axis_title=\"documents\",\n",
    "    step=250\n",
    ")\n",
    "plot_histogram(\n",
    "    data=[stat.bytes_cnt for stat in docs_stat],\n",
    "    title=\"Length in bytes distribution\",\n",
    "    x_axis_title=\"bytes\",\n",
    "    y_axis_title=\"documents\",\n",
    "    step=5000\n",
    ")\n",
    "\n",
    "print(\"Collection stop words ratio: \" + float_to_str(dictionary.stop_words_proportion(in_collection=True)))\n",
    "print(\"Collection latin words ratio: \" + float_to_str(dictionary.latin_words_proportion(in_collection=True)))\n",
    "print(\"Dictionary latin words ratio: \" + float_to_str(dictionary.latin_words_proportion(in_collection=False)))\n",
    "print(\"Dictionary average word length: \" + float_to_str(dictionary.average_dic_word_len()))\n",
    "print(\"Collection average word length: \" + float_to_str(dictionary.average_word_len()))\n",
    "\n",
    "print(\"Words with largest collection frequency: \" +\n",
    "      str(dictionary.most_popular_word(lambda v: dictionary.dict[v].cnt)))\n",
    "print(\"Words with smallest inverse document frequency: \" +\n",
    "      str(dictionary.most_popular_word(lambda v: math.log10(len(docs_stat) / dictionary.dict[v].doc_cnt),\n",
    "                                       get_max=False)))\n",
    "\n",
    "rf = rank_frequency({word: value.cnt for word, value in dictionary.dict.items()})\n",
    "plot_line(rf, \"Rank-frequency\", \"rank\", \"frequency\")"
   ]
  },
  {
   "cell_type": "code",
   "execution_count": null,
   "metadata": {
    "scrolled": true
   },
   "outputs": [],
   "source": [
    "graph.show()"
   ]
  }
 ],
 "metadata": {
  "kernelspec": {
   "display_name": "Python 3",
   "language": "python",
   "name": "python3"
  },
  "language_info": {
   "codemirror_mode": {
    "name": "ipython",
    "version": 3
   },
   "file_extension": ".py",
   "mimetype": "text/x-python",
   "name": "python",
   "nbconvert_exporter": "python",
   "pygments_lexer": "ipython3",
   "version": "3.6.8"
  }
 },
 "nbformat": 4,
 "nbformat_minor": 2
}
