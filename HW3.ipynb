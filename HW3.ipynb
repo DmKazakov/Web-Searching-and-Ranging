{
 "cells": [
  {
   "cell_type": "code",
   "execution_count": 1,
   "metadata": {},
   "outputs": [],
   "source": [
    "def train_ranker(ranker, model_name):\n",
    "    !time java -jar ./RankLib-2.12.jar -train ./task3_train.txt -tts 0.2 -ranker {ranker} -metric2t ndcg@20 -sparse -silent -save models/{model_name}.txt"
   ]
  },
  {
   "cell_type": "code",
   "execution_count": 4,
   "metadata": {},
   "outputs": [],
   "source": [
    "rankers = {0: 'MART', 1: 'RankNet', 2: 'RankBoost', 3: 'AdaRank', 4: 'Coordinate_Ascent', 6: 'LambdaMART', 7: 'ListNet', 8: 'Random_Forests'}"
   ]
  },
  {
   "cell_type": "code",
   "execution_count": 2,
   "metadata": {},
   "outputs": [
    {
     "name": "stdout",
     "output_type": "stream",
     "text": [
      "\n",
      "Discard orig. features\n",
      "Training data:\t./task3_train.txt\n",
      "Train-Test split: 0.2\n",
      "Feature vector representation: Sparse.\n",
      "Ranking method:\tMART\n",
      "Feature description file:\tUnspecified. All features will be used.\n",
      "Train metric:\tndcg@20\n",
      "Test metric:\tndcg@20\n",
      "Feature normalization: No\n",
      "Model file: models/MART.txt\n",
      "\n",
      "[+] MART's Parameters:\n",
      "\n",
      "Reading feature file [./task3_train.txt]... [Done.]            \n",
      "(7033 ranked lists, 75057 entries read)\n",
      "NDCG@20 on test data: 0.7428\n",
      "\n",
      "Model saved to: models/MART.txt\n",
      "267.16user 2.86system 2:12.13elapsed 204%CPU (0avgtext+0avgdata 1186764maxresident)k\n",
      "1896inputs+4008outputs (1major+299771minor)pagefaults 0swaps\n",
      "\n",
      "Discard orig. features\n",
      "Training data:\t./task3_train.txt\n",
      "Train-Test split: 0.2\n",
      "Feature vector representation: Sparse.\n",
      "Ranking method:\tRankNet\n",
      "Feature description file:\tUnspecified. All features will be used.\n",
      "Train metric:\tndcg@20\n",
      "Test metric:\tndcg@20\n",
      "Feature normalization: No\n",
      "Model file: models/RankNet.txt\n",
      "\n",
      "[+] RankNet's Parameters:\n",
      "\n",
      "Reading feature file [./task3_train.txt]... [Done.]            \n",
      "(7033 ranked lists, 75057 entries read)\n",
      "NDCG@20 on test data: 0.6777\n",
      "\n",
      "Model saved to: models/RankNet.txt\n",
      "210.58user 0.55system 3:28.71elapsed 101%CPU (0avgtext+0avgdata 1089120maxresident)k\n",
      "56inputs+408outputs (0major+278395minor)pagefaults 0swaps\n",
      "\n",
      "Discard orig. features\n",
      "Training data:\t./task3_train.txt\n",
      "Train-Test split: 0.2\n",
      "Feature vector representation: Sparse.\n",
      "Ranking method:\tRankBoost\n",
      "Feature description file:\tUnspecified. All features will be used.\n",
      "Train metric:\tndcg@20\n",
      "Test metric:\tndcg@20\n",
      "Feature normalization: No\n",
      "Model file: models/RankBoost.txt\n",
      "\n",
      "[+] RankBoost's Parameters:\n",
      "\n",
      "Reading feature file [./task3_train.txt]... [Done.]            \n",
      "(7033 ranked lists, 75057 entries read)\n",
      "NDCG@20 on test data: 0.7189\n",
      "\n",
      "Model saved to: models/RankBoost.txt\n",
      "416.21user 0.83system 6:28.17elapsed 107%CPU (0avgtext+0avgdata 866936maxresident)k\n",
      "8inputs+536outputs (0major+221343minor)pagefaults 0swaps\n",
      "\n",
      "Discard orig. features\n",
      "Training data:\t./task3_train.txt\n",
      "Train-Test split: 0.2\n",
      "Feature vector representation: Sparse.\n",
      "Ranking method:\tAdaRank\n",
      "Feature description file:\tUnspecified. All features will be used.\n",
      "Train metric:\tndcg@20\n",
      "Test metric:\tndcg@20\n",
      "Feature normalization: No\n",
      "Model file: models/AdaRank.txt\n",
      "\n",
      "[+] AdaRank's Parameters:\n",
      "\n",
      "Reading feature file [./task3_train.txt]... [Done.]            \n",
      "(7033 ranked lists, 75057 entries read)\n",
      "NDCG@20 on test data: 0.7137\n",
      "\n",
      "Model saved to: models/AdaRank.txt\n",
      "148.04user 0.59system 2:26.60elapsed 101%CPU (0avgtext+0avgdata 1116908maxresident)k\n",
      "0inputs+224outputs (0major+282189minor)pagefaults 0swaps\n",
      "Exception in thread \"main\" ciir.umass.edu.utilities.RankLibError: Unknown command-line parameter: Ascent.txt\n",
      "\tat ciir.umass.edu.utilities.RankLibError.create(RankLibError.java:26)\n",
      "\tat ciir.umass.edu.eval.Evaluator.main(Evaluator.java:409)\n",
      "Command exited with non-zero status 1\n",
      "0.08user 0.01system 0:00.09elapsed 96%CPU (0avgtext+0avgdata 25960maxresident)k\n",
      "8inputs+64outputs (0major+2704minor)pagefaults 0swaps\n",
      "\n",
      "Discard orig. features\n",
      "Training data:\t./task3_train.txt\n",
      "Train-Test split: 0.2\n",
      "Feature vector representation: Sparse.\n",
      "Ranking method:\tLambdaMART\n",
      "Feature description file:\tUnspecified. All features will be used.\n",
      "Train metric:\tndcg@20\n",
      "Test metric:\tndcg@20\n",
      "Feature normalization: No\n",
      "Model file: models/LambdaMART.txt\n",
      "\n",
      "[+] LambdaMART's Parameters:\n",
      "\n",
      "Reading feature file [./task3_train.txt]... [Done.]            \n",
      "(7033 ranked lists, 75057 entries read)\n",
      "NDCG@20 on test data: 0.7422\n",
      "\n",
      "Model saved to: models/LambdaMART.txt\n",
      "263.80user 2.72system 1:53.12elapsed 235%CPU (0avgtext+0avgdata 1187864maxresident)k\n",
      "0inputs+3960outputs (0major+340320minor)pagefaults 0swaps\n",
      "\n",
      "Discard orig. features\n",
      "Training data:\t./task3_train.txt\n",
      "Train-Test split: 0.2\n",
      "Feature vector representation: Sparse.\n",
      "Ranking method:\tListNet\n",
      "Feature description file:\tUnspecified. All features will be used.\n",
      "Train metric:\tndcg@20\n",
      "Test metric:\tndcg@20\n",
      "Feature normalization: No\n",
      "Model file: models/ListNet.txt\n",
      "\n",
      "[+] ListNet's Parameters:\n",
      "\n",
      "Reading feature file [./task3_train.txt]... [Done.]            \n",
      "(7033 ranked lists, 75057 entries read)\n",
      "NDCG@20 on test data: 0.725\n",
      "\n",
      "Model saved to: models/ListNet.txt\n",
      "532.39user 1.45system 8:48.52elapsed 101%CPU (0avgtext+0avgdata 1126448maxresident)k\n",
      "0inputs+680outputs (0major+302738minor)pagefaults 0swaps\n",
      "\n",
      "Discard orig. features\n",
      "Training data:\t./task3_train.txt\n",
      "Train-Test split: 0.2\n",
      "Feature vector representation: Sparse.\n",
      "Ranking method:\tRandom Forests\n",
      "Feature description file:\tUnspecified. All features will be used.\n",
      "Train metric:\tndcg@20\n",
      "Test metric:\tndcg@20\n",
      "Feature normalization: No\n",
      "Model file: models/Random_Forests.txt\n",
      "\n",
      "[+] Random Forests's Parameters:\n",
      "\n",
      "Reading feature file [./task3_train.txt]... [Done.]            \n",
      "(7033 ranked lists, 75057 entries read)\n",
      "NDCG@20 on test data: 0.7452\n",
      "\n",
      "Model saved to: models/Random_Forests.txt\n",
      "986.05user 7.64system 7:51.08elapsed 210%CPU (0avgtext+0avgdata 1204088maxresident)k\n",
      "0inputs+13688outputs (0major+305708minor)pagefaults 0swaps\n"
     ]
    }
   ],
   "source": [
    "\n",
    "for ranker_id in rankers:\n",
    "    train_ranker(ranker_id, rankers[ranker_id])\n",
    "    "
   ]
  },
  {
   "cell_type": "code",
   "execution_count": 5,
   "metadata": {},
   "outputs": [
    {
     "name": "stdout",
     "output_type": "stream",
     "text": [
      "\n",
      "Discard orig. features\n",
      "Training data:\t./task3_train.txt\n",
      "Train-Test split: 0.2\n",
      "Feature vector representation: Sparse.\n",
      "Ranking method:\tCoordinate Ascent\n",
      "Feature description file:\tUnspecified. All features will be used.\n",
      "Train metric:\tndcg@20\n",
      "Test metric:\tndcg@20\n",
      "Feature normalization: No\n",
      "Model file: models/Coordinate_Ascent.txt\n",
      "\n",
      "[+] Coordinate Ascent's Parameters:\n",
      "\n",
      "Reading feature file [./task3_train.txt]... [Done.]            \n",
      "(7033 ranked lists, 75057 entries read)\n",
      "NDCG@20 on test data: 0.7332\n",
      "\n",
      "Model saved to: models/Coordinate_Ascent.txt\n",
      "642.89user 1.59system 10:41.74elapsed 100%CPU (0avgtext+0avgdata 1132108maxresident)k\n",
      "0inputs+1016outputs (0major+290188minor)pagefaults 0swaps\n"
     ]
    }
   ],
   "source": [
    "train_ranker(4, rankers[4])"
   ]
  },
  {
   "cell_type": "code",
   "execution_count": 8,
   "metadata": {},
   "outputs": [],
   "source": [
    "def ranklib_score(filename):\n",
    "    !time java -jar ./RankLib-2.12.jar -load models/{filename}.txt -rank ./imat2009_test.txt -score scores/{filename}.txt -sparse "
   ]
  },
  {
   "cell_type": "code",
   "execution_count": 9,
   "metadata": {},
   "outputs": [
    {
     "name": "stdout",
     "output_type": "stream",
     "text": [
      "\n",
      "Discard orig. features\n",
      "Model file:\tmodels/MART.txt\n",
      "Feature normalization: No\n",
      "Model:\t\tMART\n",
      "Reading feature file [./imat2009_test.txt]... [Done.]            \n",
      "(94500 ranked lists, 115643 entries read)\n",
      "42.76user 0.50system 0:40.53elapsed 106%CPU (0avgtext+0avgdata 1178892maxresident)k\n",
      "0inputs+6864outputs (0major+293522minor)pagefaults 0swaps\n",
      "\n",
      "Discard orig. features\n",
      "Model file:\tmodels/RankNet.txt\n",
      "Feature normalization: No\n",
      "Model:\t\tRankNet\n",
      "Reading feature file [./imat2009_test.txt]... [Done.]            \n",
      "(94500 ranked lists, 115643 entries read)\n",
      "7.75user 0.41system 0:06.29elapsed 129%CPU (0avgtext+0avgdata 1164436maxresident)k\n",
      "0inputs+6824outputs (0major+290502minor)pagefaults 0swaps\n",
      "\n",
      "Discard orig. features\n",
      "Model file:\tmodels/RankBoost.txt\n",
      "Feature normalization: No\n",
      "Model:\t\tRankBoost\n",
      "Reading feature file [./imat2009_test.txt]... [Done.]            \n",
      "(94500 ranked lists, 115643 entries read)\n",
      "7.68user 0.49system 0:06.23elapsed 131%CPU (0avgtext+0avgdata 1165688maxresident)k\n",
      "0inputs+6792outputs (0major+291009minor)pagefaults 0swaps\n",
      "\n",
      "Discard orig. features\n",
      "Model file:\tmodels/AdaRank.txt\n",
      "Feature normalization: No\n",
      "Model:\t\tAdaRank\n",
      "Reading feature file [./imat2009_test.txt]... [Done.]            \n",
      "(94500 ranked lists, 115643 entries read)\n",
      "6.15user 0.48system 0:04.88elapsed 135%CPU (0avgtext+0avgdata 1159076maxresident)k\n",
      "0inputs+6752outputs (0major+290875minor)pagefaults 0swaps\n",
      "\n",
      "Discard orig. features\n",
      "Model file:\tmodels/Coordinate_Ascent.txt\n",
      "Feature normalization: No\n",
      "Model:\t\tCoordinate Ascent\n",
      "Reading feature file [./imat2009_test.txt]... [Done.]            \n",
      "(94500 ranked lists, 115643 entries read)\n",
      "8.49user 0.63system 0:07.19elapsed 126%CPU (0avgtext+0avgdata 1190208maxresident)k\n",
      "0inputs+7360outputs (0major+296297minor)pagefaults 0swaps\n",
      "\n",
      "Discard orig. features\n",
      "Model file:\tmodels/LambdaMART.txt\n",
      "Feature normalization: No\n",
      "Model:\t\tLambdaMART\n",
      "Reading feature file [./imat2009_test.txt]... [Done.]            \n",
      "(94500 ranked lists, 115643 entries read)\n",
      "48.36user 0.61system 0:46.05elapsed 106%CPU (0avgtext+0avgdata 1176904maxresident)k\n",
      "0inputs+7000outputs (0major+293096minor)pagefaults 0swaps\n",
      "\n",
      "Discard orig. features\n",
      "Model file:\tmodels/ListNet.txt\n",
      "Feature normalization: No\n",
      "Model:\t\tListNet\n",
      "Reading feature file [./imat2009_test.txt]... [Done.]            \n",
      "(94500 ranked lists, 115643 entries read)\n",
      "6.90user 0.40system 0:05.56elapsed 131%CPU (0avgtext+0avgdata 1186196maxresident)k\n",
      "0inputs+6840outputs (0major+295357minor)pagefaults 0swaps\n",
      "\n",
      "Discard orig. features\n",
      "Model file:\tmodels/Random_Forests.txt\n",
      "Feature normalization: No\n",
      "Model:\t\tRandom Forests\n",
      "Reading feature file [./imat2009_test.txt]... [Done.]            \n",
      "(94500 ranked lists, 115643 entries read)\n",
      "28.74user 0.61system 0:25.12elapsed 116%CPU (0avgtext+0avgdata 1187220maxresident)k\n",
      "112inputs+7048outputs (0major+298499minor)pagefaults 0swaps\n"
     ]
    }
   ],
   "source": [
    "for ranker_id in rankers:\n",
    "    ranklib_score(rankers[ranker_id])"
   ]
  },
  {
   "cell_type": "code",
   "execution_count": 11,
   "metadata": {},
   "outputs": [
    {
     "name": "stdout",
     "output_type": "stream",
     "text": [
      "\n",
      "Discard orig. features\n",
      "Training data:\t./task3_train.txt\n",
      "Train-Test split: 0.2\n",
      "Feature vector representation: Sparse.\n",
      "Ranking method:\tMART\n",
      "Feature description file:\tUnspecified. All features will be used.\n",
      "Train metric:\tndcg@20\n",
      "Test metric:\tndcg@20\n",
      "Feature normalization: No\n",
      "Model file: models/MART_2000.txt\n",
      "\n",
      "[+] MART's Parameters:\n",
      "\n",
      "Reading feature file [./task3_train.txt]... [Done.]            \n",
      "(7033 ranked lists, 75057 entries read)\n",
      "NDCG@20 on test data: 0.7382\n",
      "\n",
      "Model saved to: models/MART_2000.txt\n",
      "6147.19user 67.95system 48:56.64elapsed 211%CPU (0avgtext+0avgdata 3226672maxresident)k\n",
      "1432inputs+377920outputs (6major+1602404minor)pagefaults 0swaps\n"
     ]
    }
   ],
   "source": [
    "!time java -jar ./RankLib-2.12.jar -train ./task3_train.txt -tts 0.2 -ranker 0 -tree 2000 -leaf 200 -metric2t ndcg@20 -sparse -silent -save models/MART_2000.txt"
   ]
  },
  {
   "cell_type": "code",
   "execution_count": 17,
   "metadata": {},
   "outputs": [
    {
     "name": "stdout",
     "output_type": "stream",
     "text": [
      "\n",
      "Discard orig. features\n",
      "Training data:\t./task3_train.txt\n",
      "Train-Test split: 0.2\n",
      "Feature vector representation: Sparse.\n",
      "Ranking method:\tLambdaMART\n",
      "Feature description file:\tUnspecified. All features will be used.\n",
      "Train metric:\tndcg@20\n",
      "Test metric:\tndcg@20\n",
      "Feature normalization: No\n",
      "Model file: models/LambdaMART_p.txt\n",
      "\n",
      "[+] LambdaMART's Parameters:\n",
      "\n",
      "Reading feature file [./task3_train.txt]... [Done.]            \n",
      "(7033 ranked lists, 75057 entries read)\n",
      "NDCG@20 on test data: 0.7424\n",
      "\n",
      "Model saved to: models/LambdaMART_p.txt\n",
      "307.69user 2.76system 2:09.79elapsed 239%CPU (0avgtext+0avgdata 1187496maxresident)k\n",
      "0inputs+4744outputs (0major+344246minor)pagefaults 0swaps\n"
     ]
    }
   ],
   "source": [
    "!time java -jar ./RankLib-2.12.jar -train ./task3_train.txt -tts 0.2 -ranker 6 -tree 1200 -metric2t ndcg@20 -sparse -silent -save models/LambdaMART_p.txt"
   ]
  },
  {
   "cell_type": "code",
   "execution_count": 19,
   "metadata": {},
   "outputs": [
    {
     "name": "stdout",
     "output_type": "stream",
     "text": [
      "\n",
      "Discard orig. features\n",
      "Training data:\t./task3_train.txt\n",
      "Train-Test split: 0.2\n",
      "Feature vector representation: Sparse.\n",
      "Ranking method:\tLambdaMART\n",
      "Feature description file:\tUnspecified. All features will be used.\n",
      "Train metric:\tndcg@20\n",
      "Test metric:\tndcg@20\n",
      "Feature normalization: No\n",
      "Model file: models/LambdaMART_p.txt\n",
      "\n",
      "[+] LambdaMART's Parameters:\n",
      "\n",
      "Reading feature file [./task3_train.txt]... [Done.]            \n",
      "(7033 ranked lists, 75057 entries read)\n",
      "NDCG@20 on test data: 0.7439\n",
      "\n",
      "Model saved to: models/LambdaMART_p.txt\n",
      "898.33user 9.20system 6:26.37elapsed 234%CPU (0avgtext+0avgdata 1194692maxresident)k\n",
      "0inputs+31736outputs (0major+543498minor)pagefaults 0swaps\n"
     ]
    }
   ],
   "source": [
    "!time java -jar ./RankLib-2.12.jar -train ./task3_train.txt -tts 0.2 -ranker 6 -tree 1200 -leaf 50 -metric2t ndcg@20 -sparse -silent -save models/LambdaMART_p.txt"
   ]
  },
  {
   "cell_type": "code",
   "execution_count": 20,
   "metadata": {},
   "outputs": [
    {
     "name": "stdout",
     "output_type": "stream",
     "text": [
      "\n",
      "Discard orig. features\n",
      "Training data:\t./task3_train.txt\n",
      "Train-Test split: 0.2\n",
      "Feature vector representation: Sparse.\n",
      "Ranking method:\tLambdaMART\n",
      "Feature description file:\tUnspecified. All features will be used.\n",
      "Train metric:\tndcg@20\n",
      "Test metric:\tndcg@20\n",
      "Feature normalization: No\n",
      "Model file: models/LambdaMART_p.txt\n",
      "\n",
      "[+] LambdaMART's Parameters:\n",
      "\n",
      "Reading feature file [./task3_train.txt]... [Done.]            \n",
      "(7033 ranked lists, 75057 entries read)\n",
      "NDCG@20 on test data: 0.7444\n",
      "\n",
      "Model saved to: models/LambdaMART_p.txt\n",
      "1180.95user 16.43system 9:20.33elapsed 213%CPU (0avgtext+0avgdata 1203428maxresident)k\n",
      "0inputs+66312outputs (0major+642554minor)pagefaults 0swaps\n"
     ]
    }
   ],
   "source": [
    "!time java -jar ./RankLib-2.12.jar -train ./task3_train.txt -tts 0.2 -ranker 6 -tree 1200 -leaf 100 -metric2t ndcg@20 -sparse -silent -save models/LambdaMART_p.txt"
   ]
  },
  {
   "cell_type": "code",
   "execution_count": 21,
   "metadata": {},
   "outputs": [
    {
     "name": "stdout",
     "output_type": "stream",
     "text": [
      "\n",
      "Discard orig. features\n",
      "Training data:\t./task3_train.txt\n",
      "Train-Test split: 0.2\n",
      "Feature vector representation: Sparse.\n",
      "Ranking method:\tLambdaMART\n",
      "Feature description file:\tUnspecified. All features will be used.\n",
      "Train metric:\tndcg@20\n",
      "Test metric:\tndcg@20\n",
      "Feature normalization: No\n",
      "Model file: models/LambdaMART_p.txt\n",
      "\n",
      "[+] LambdaMART's Parameters:\n",
      "\n",
      "Reading feature file [./task3_train.txt]... [Done.]            \n",
      "(7033 ranked lists, 75057 entries read)\n",
      "NDCG@20 on test data: 0.7444\n",
      "\n",
      "Model saved to: models/LambdaMART_p.txt\n",
      "1688.85user 33.48system 16:52.81elapsed 170%CPU (0avgtext+0avgdata 1215312maxresident)k\n",
      "528inputs+83968outputs (2major+675244minor)pagefaults 0swaps\n"
     ]
    }
   ],
   "source": [
    "!time java -jar ./RankLib-2.12.jar -train ./task3_train.txt -tts 0.2 -ranker 6 -tree 1500 -leaf 100 -metric2t ndcg@20 -sparse -silent -save models/LambdaMART_p.txt"
   ]
  },
  {
   "cell_type": "code",
   "execution_count": 24,
   "metadata": {},
   "outputs": [
    {
     "name": "stdout",
     "output_type": "stream",
     "text": [
      "\n",
      "Discard orig. features\n",
      "Training data:\t./task3_train.txt\n",
      "Train-Test split: 0.2\n",
      "Feature vector representation: Sparse.\n",
      "Ranking method:\tRandom Forests\n",
      "Feature description file:\tUnspecified. All features will be used.\n",
      "Train metric:\tndcg@20\n",
      "Test metric:\tndcg@20\n",
      "Feature normalization: No\n",
      "Model file: models/randomforest_p.txt\n",
      "\n",
      "[+] Random Forests's Parameters:\n",
      "\n",
      "Reading feature file [./task3_train.txt]... [Done.]            \n",
      "(7033 ranked lists, 75057 entries read)\n",
      "NDCG@20 on test data: 0.7365\n",
      "\n",
      "Model saved to: models/randomforest_p.txt\n",
      "1643.19user 15.56system 15:03.30elapsed 183%CPU (0avgtext+0avgdata 1219724maxresident)k\n",
      "246152inputs+12696outputs (12major+309279minor)pagefaults 0swaps\n"
     ]
    }
   ],
   "source": [
    "!time java -jar ./RankLib-2.12.jar -train ./task3_train.txt -tts 0.2 -ranker 8 -bag 500 -leaf 50 -rtype 6 -metric2t ndcg@20 -sparse -silent -save models/randomforest_p.txt"
   ]
  },
  {
   "cell_type": "code",
   "execution_count": 25,
   "metadata": {},
   "outputs": [
    {
     "name": "stdout",
     "output_type": "stream",
     "text": [
      "\n",
      "Discard orig. features\n",
      "Training data:\t./task3_train.txt\n",
      "Train-Test split: 0.2\n",
      "Feature vector representation: Sparse.\n",
      "Ranking method:\tRandom Forests\n",
      "Feature description file:\tUnspecified. All features will be used.\n",
      "Train metric:\tndcg@20\n",
      "Test metric:\tndcg@20\n",
      "Feature normalization: No\n",
      "Model file: models/randomforest_p.txt\n",
      "\n",
      "[+] Random Forests's Parameters:\n",
      "\n",
      "Reading feature file [./task3_train.txt]... [Done.]            \n",
      "(7033 ranked lists, 75057 entries read)\n",
      "NDCG@20 on test data: 0.7417\n",
      "\n",
      "Model saved to: models/randomforest_p.txt\n",
      "1592.54user 16.12system 14:59.80elapsed 178%CPU (0avgtext+0avgdata 1199976maxresident)k\n",
      "237744inputs+11576outputs (9major+308304minor)pagefaults 0swaps\n"
     ]
    }
   ],
   "source": [
    "!time java -jar ./RankLib-2.12.jar -train ./task3_train.txt -tts 0.2 -ranker 8 -bag 500 -leaf 50 -metric2t ndcg@20 -sparse -silent -save models/randomforest_p.txt"
   ]
  },
  {
   "cell_type": "code",
   "execution_count": null,
   "metadata": {},
   "outputs": [],
   "source": []
  }
 ],
 "metadata": {
  "kernelspec": {
   "display_name": "Python 3",
   "language": "python",
   "name": "python3"
  },
  "language_info": {
   "codemirror_mode": {
    "name": "ipython",
    "version": 3
   },
   "file_extension": ".py",
   "mimetype": "text/x-python",
   "name": "python",
   "nbconvert_exporter": "python",
   "pygments_lexer": "ipython3",
   "version": "3.7.3"
  }
 },
 "nbformat": 4,
 "nbformat_minor": 2
}
